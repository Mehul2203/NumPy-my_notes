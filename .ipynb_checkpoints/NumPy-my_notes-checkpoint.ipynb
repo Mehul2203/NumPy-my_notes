{
 "cells": [
  {
   "cell_type": "markdown",
   "id": "be8fa87b-69ea-4ab4-b1d8-41e18ca2b6ec",
   "metadata": {},
   "source": [
    "#  NumPy (Numerical Python)"
   ]
  },
  {
   "cell_type": "markdown",
   "id": "88b91d5b-ef53-4e42-8bb3-b31e671fe341",
   "metadata": {},
   "source": [
    "+ NumPy is a fundamental package for scientific (numeric) computing with Python.     \n",
    "+ It allows us to create, store and manipulate data.  \n",
    "+ It is the foundation that Pandas package is built on.   \n",
    "+ It support for large, multi-dimensional arrays and matrices, along with a large collection of high-level mathematical functions to operate on these arrays, like min(), max(), etc.   \n",
    "+ It was created by Jim Hugunin, and was released in 1995. "
   ]
  },
  {
   "cell_type": "markdown",
   "id": "015d9354-1520-44ba-ad37-823ee973b66a",
   "metadata": {},
   "source": [
    "### Installing, importing, creating arrays, etc. "
   ]
  },
  {
   "cell_type": "code",
   "execution_count": 21,
   "id": "dba5dbc6-4098-4e2b-9a22-a9676015bbe8",
   "metadata": {},
   "outputs": [],
   "source": [
    "#use this command in cmd to download and install the numpy package\n",
    "# \"pip install numpy\""
   ]
  },
  {
   "cell_type": "code",
   "execution_count": 3,
   "id": "3d372051-a328-41aa-8e83-de21329de8c9",
   "metadata": {},
   "outputs": [],
   "source": [
    "import numpy #importing it.\n",
    "import math"
   ]
  },
  {
   "cell_type": "code",
   "execution_count": 4,
   "id": "f6e659ca-420a-4ce4-b9c5-00446ee42718",
   "metadata": {},
   "outputs": [],
   "source": [
    "import numpy as np   #generally np is used as abbreviation for numpy."
   ]
  },
  {
   "cell_type": "code",
   "execution_count": 7,
   "id": "005b9dfc-39e6-4138-a812-13799ad52c5d",
   "metadata": {},
   "outputs": [
    {
     "name": "stdout",
     "output_type": "stream",
     "text": [
      "[1 2 3]\n"
     ]
    }
   ],
   "source": [
    "a = np.array([1,2,3])   #to create an array I have used array() function and notice that I have added a list into that function,\n",
    "                        #that will be our array. \n",
    "print(a)"
   ]
  },
  {
   "cell_type": "code",
   "execution_count": 8,
   "id": "8276ae6a-e93d-452a-ae95-390ea25592c9",
   "metadata": {},
   "outputs": [
    {
     "data": {
      "text/plain": [
       "1"
      ]
     },
     "execution_count": 8,
     "metadata": {},
     "output_type": "execute_result"
    }
   ],
   "source": [
    "a.ndim   #to check the dimension of the array. "
   ]
  },
  {
   "cell_type": "code",
   "execution_count": 9,
   "id": "ce5d2f1d-6f9e-4224-b0b2-5d461866a8f5",
   "metadata": {},
   "outputs": [
    {
     "data": {
      "text/plain": [
       "dtype('int32')"
      ]
     },
     "execution_count": 9,
     "metadata": {},
     "output_type": "execute_result"
    }
   ],
   "source": [
    "a.dtype  #tells the type of elements in the array.  "
   ]
  },
  {
   "cell_type": "code",
   "execution_count": 14,
   "id": "f6c5709c-dc5b-4448-b694-0b39c5c450c0",
   "metadata": {},
   "outputs": [
    {
     "name": "stdout",
     "output_type": "stream",
     "text": [
      "[[1 2 3]\n",
      " [4 5 6]]\n",
      "2\n",
      "int32\n"
     ]
    }
   ],
   "source": [
    "#creating a multi-dimensional array. \n",
    "#We can pass a list of lists for this into the array() function.   \n",
    "b = np.array([[1,2,3], [4,5,6]])\n",
    "print(b)\n",
    "print(b.ndim)\n",
    "print(b.dtype)"
   ]
  },
  {
   "cell_type": "code",
   "execution_count": 16,
   "id": "72d46a0b-a9c9-4efc-b8c3-25bb84cb8dbb",
   "metadata": {},
   "outputs": [
    {
     "data": {
      "text/plain": [
       "(2, 3)"
      ]
     },
     "execution_count": 16,
     "metadata": {},
     "output_type": "execute_result"
    }
   ],
   "source": [
    "#now checking the shape of our array.\n",
    "#it returns a tuple. \n",
    "b.shape    "
   ]
  },
  {
   "cell_type": "code",
   "execution_count": 18,
   "id": "1d51c348-f697-4a0c-9286-d6442acd0d68",
   "metadata": {},
   "outputs": [
    {
     "name": "stdout",
     "output_type": "stream",
     "text": [
      "float64\n",
      "[2.2 5.  1.1]\n"
     ]
    }
   ],
   "source": [
    "c = np.array([2.2, 5, 1.1])\n",
    "print(c.dtype)\n",
    "print(c)  \n",
    "\n",
    "#notice that numpy automatically converted the element 5 into a floating point number.\n",
    "# It tries to maintain the homogeneity of our array. "
   ]
  },
  {
   "cell_type": "code",
   "execution_count": 22,
   "id": "3fef4f6c-3677-4c33-8216-ee969934c202",
   "metadata": {},
   "outputs": [
    {
     "name": "stdout",
     "output_type": "stream",
     "text": [
      "[[0. 0. 0.]\n",
      " [0. 0. 0.]]\n",
      "[[1. 1. 1.]\n",
      " [1. 1. 1.]]\n"
     ]
    }
   ],
   "source": [
    "#other ways to create arrays. \n",
    "d = np.zeros((2,3)) # an array with all elements that are 0. We have to  pass the shape as an argument in the function. \n",
    "e = np.ones((2,3))  #an array with all elements that are 1. We have to  pass the shape as an argument in the function.\n",
    "\n",
    "print(d)\n",
    "print(e)"
   ]
  },
  {
   "cell_type": "code",
   "execution_count": 23,
   "id": "fbfcd8ca-edf3-4bc5-a833-34401e5c1fe4",
   "metadata": {},
   "outputs": [
    {
     "data": {
      "text/plain": [
       "array([[0.67882369, 0.32388559, 0.53153806],\n",
       "       [0.73717815, 0.28627471, 0.4530464 ]])"
      ]
     },
     "execution_count": 23,
     "metadata": {},
     "output_type": "execute_result"
    }
   ],
   "source": [
    "#generating an array with random numbers:\n",
    "np.random.rand(2,3)"
   ]
  },
  {
   "cell_type": "code",
   "execution_count": 28,
   "id": "2ee7857c-a194-4cf2-9ee0-11dfd68432de",
   "metadata": {},
   "outputs": [
    {
     "name": "stdout",
     "output_type": "stream",
     "text": [
      "[10 12 14 16 18 20 22 24 26 28 30 32 34 36 38 40 42 44 46 48]\n"
     ]
    }
   ],
   "source": [
    "#Now, I am going to generate a sequence of numbers as an array, using the arange() function. The first argument is the starting number, \n",
    "#second argument is the ending number and the third argument is the difference between each consecutive numbers. \n",
    "#The default third argument is 1. \n",
    "\n",
    "f = np.arange(10, 50, 2)    #10 is inclusive, 50 is exclusive. \n",
    "print(f)"
   ]
  },
  {
   "cell_type": "code",
   "execution_count": 32,
   "id": "9988c8ce-b224-4734-b399-348ddda1b75e",
   "metadata": {},
   "outputs": [
    {
     "name": "stdout",
     "output_type": "stream",
     "text": [
      "[1.         1.05263158 1.10526316 1.15789474 1.21052632 1.26315789\n",
      " 1.31578947 1.36842105 1.42105263 1.47368421 1.52631579 1.57894737\n",
      " 1.63157895 1.68421053 1.73684211 1.78947368 1.84210526 1.89473684\n",
      " 1.94736842 2.        ]\n"
     ]
    }
   ],
   "source": [
    "#Now, I am going to generate a sequence of floats as an array, using the linspace() function. The first argument is the starting bound, \n",
    "#second argument is the ending bound and the third argument is the number of elements we cant between them. \n",
    "#The default third argument is 1. \n",
    "\n",
    "g = np.linspace(1, 2, 20)    #20 numbers from 1 (inclusive) to 2 (inclusive). \n",
    "print(g)"
   ]
  },
  {
   "cell_type": "markdown",
   "id": "0990a4c7-b5a0-4bec-a8dc-4e4336679b98",
   "metadata": {},
   "source": [
    "### Arithmetic Operations"
   ]
  },
  {
   "cell_type": "code",
   "execution_count": 46,
   "id": "091429ef-71e9-410a-9db8-3c08925e191d",
   "metadata": {},
   "outputs": [
    {
     "name": "stdout",
     "output_type": "stream",
     "text": [
      "[11 22 33 44]\n",
      "[ 9 18 27 36]\n",
      "[ 10  40  90 160]\n",
      "[10. 10. 10. 10.]\n",
      "[0 0 0 0]\n",
      "[ 1  4  9 16]\n",
      "[False False  True  True]\n",
      "[False False False False]\n",
      "[ True  True  True False]\n",
      "[ True  True  True  True]\n"
     ]
    }
   ],
   "source": [
    "a = np.array([10, 20, 30, 40])\n",
    "b = np.array([1, 2, 3, 4])\n",
    "\n",
    "print(a+b)\n",
    "print(a-b)\n",
    "print(a*b)\n",
    "print(a/b)\n",
    "print(a%b)\n",
    "print(b**2)\n",
    "\n",
    "#boolean \n",
    "#gives arrays with boolean True & False\n",
    "print(a>20)\n",
    "print(a<10)\n",
    "print(b!=4)\n",
    "print(a%2 == 0)"
   ]
  },
  {
   "cell_type": "code",
   "execution_count": 45,
   "id": "64a5bf0c-ac8a-4a8e-9816-02d5fb264a13",
   "metadata": {},
   "outputs": [
    {
     "name": "stdout",
     "output_type": "stream",
     "text": [
      "[[2 0]\n",
      " [0 4]]\n",
      "[[5 4]\n",
      " [3 4]]\n"
     ]
    }
   ],
   "source": [
    "#I have created two matrices. \n",
    "A = np.array([[1, 1], [0, 1]])\n",
    "B = np.array([[2, 0], [3, 4]])\n",
    "\n",
    "print(A*B) # asterisk * is used for element wise multiplication. \n",
    "print(A@B) # at sign @ is used for dot product.\n"
   ]
  },
  {
   "cell_type": "code",
   "execution_count": 47,
   "id": "b9329c8a-141a-419d-b631-f7fdf5143bcb",
   "metadata": {},
   "outputs": [
    {
     "name": "stdout",
     "output_type": "stream",
     "text": [
      "int32\n",
      "float64\n",
      "float64\n"
     ]
    }
   ],
   "source": [
    "#UPCASTING \n",
    "#while manipulating two arrays, the resulting array will correspond to the more general of the two types. This is called as Upcasting.  \n",
    "\n",
    "A = np.array([[1, 2, 3], [4, 5, 6]])\n",
    "B = np.array([[2.0, 1.0, 4.5], [3.4, 4.5, 2.0]])\n",
    "\n",
    "print(A.dtype)\n",
    "print(B.dtype)\n",
    "print((A+B).dtype)\n",
    "#we can see that the result is float type. "
   ]
  },
  {
   "cell_type": "code",
   "execution_count": 50,
   "id": "95c96912-87fb-4d1e-8c43-fe1e34c8e095",
   "metadata": {},
   "outputs": [
    {
     "name": "stdout",
     "output_type": "stream",
     "text": [
      "1\n",
      "6\n",
      "21\n",
      "3.5\n"
     ]
    }
   ],
   "source": [
    "#Aggregation functions\n",
    "\n",
    "A = np.array([1, 2, 3, 4, 5, 6])\n",
    "\n",
    "print(A.min())\n",
    "print(A.max())\n",
    "print(A.sum())\n",
    "print(A.mean())\n"
   ]
  },
  {
   "cell_type": "code",
   "execution_count": 52,
   "id": "00665288-df7a-491f-98fc-58b7cb095b97",
   "metadata": {},
   "outputs": [
    {
     "data": {
      "text/plain": [
       "array([[ 1,  2,  3,  4,  5],\n",
       "       [ 6,  7,  8,  9, 10],\n",
       "       [11, 12, 13, 14, 15]])"
      ]
     },
     "execution_count": 52,
     "metadata": {},
     "output_type": "execute_result"
    }
   ],
   "source": [
    "a=np.arange(1,16,1).reshape(3,5)   #I have reshaped it immediately. Note that it will ony work if the reshaping and creating array both \n",
    "                                   #have same number of elements. That is 15. So, 3*5=15. \n",
    "print(a)    "
   ]
  },
  {
   "cell_type": "markdown",
   "id": "8d8c2f14-0374-4ef1-8cc6-a8f543deb968",
   "metadata": {},
   "source": [
    "### Indexing, Slicing & Iterating"
   ]
  },
  {
   "cell_type": "code",
   "execution_count": null,
   "id": "1819ddb7-ea3f-4564-87ce-28f455939b7b",
   "metadata": {},
   "outputs": [],
   "source": []
  }
 ],
 "metadata": {
  "kernelspec": {
   "display_name": "Python 3 (ipykernel)",
   "language": "python",
   "name": "python3"
  },
  "language_info": {
   "codemirror_mode": {
    "name": "ipython",
    "version": 3
   },
   "file_extension": ".py",
   "mimetype": "text/x-python",
   "name": "python",
   "nbconvert_exporter": "python",
   "pygments_lexer": "ipython3",
   "version": "3.9.5"
  }
 },
 "nbformat": 4,
 "nbformat_minor": 5
}
