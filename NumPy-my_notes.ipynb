{
 "cells": [
  {
   "cell_type": "markdown",
   "id": "be8fa87b-69ea-4ab4-b1d8-41e18ca2b6ec",
   "metadata": {},
   "source": [
    "#  NumPy (Numerical Python)"
   ]
  },
  {
   "cell_type": "markdown",
   "id": "88b91d5b-ef53-4e42-8bb3-b31e671fe341",
   "metadata": {},
   "source": [
    "+ NumPy is a fundamental package for scientific (numeric) computing with Python.     \n",
    "+ It allows us to create, store and manipulate data.  \n",
    "+ It is the foundation that Pandas package is built on.   \n",
    "+ It support for large, multi-dimensional arrays and matrices, along with a large collection of high-level mathematical functions to operate on these arrays, like min(), max(), etc.   \n",
    "+ It was created by Jim Hugunin, and was released in 1995. "
   ]
  },
  {
   "cell_type": "code",
   "execution_count": 3,
   "id": "3d372051-a328-41aa-8e83-de21329de8c9",
   "metadata": {},
   "outputs": [],
   "source": [
    "import numpy #importing it.\n",
    "import math"
   ]
  },
  {
   "cell_type": "code",
   "execution_count": 4,
   "id": "f6e659ca-420a-4ce4-b9c5-00446ee42718",
   "metadata": {},
   "outputs": [],
   "source": [
    "import numpy as np   #generally np is used as abbreviation for numpy."
   ]
  },
  {
   "cell_type": "code",
   "execution_count": 7,
   "id": "005b9dfc-39e6-4138-a812-13799ad52c5d",
   "metadata": {},
   "outputs": [
    {
     "name": "stdout",
     "output_type": "stream",
     "text": [
      "[1 2 3]\n"
     ]
    }
   ],
   "source": [
    "a = np.array([1,2,3])   #to create an array I have used array() function and notice that I have added a list into that function,\n",
    "                        #that will be our array. \n",
    "print(a)"
   ]
  },
  {
   "cell_type": "code",
   "execution_count": 8,
   "id": "8276ae6a-e93d-452a-ae95-390ea25592c9",
   "metadata": {},
   "outputs": [
    {
     "data": {
      "text/plain": [
       "1"
      ]
     },
     "execution_count": 8,
     "metadata": {},
     "output_type": "execute_result"
    }
   ],
   "source": [
    "a.ndim   #to check the dimension of the array. "
   ]
  },
  {
   "cell_type": "code",
   "execution_count": 9,
   "id": "ce5d2f1d-6f9e-4224-b0b2-5d461866a8f5",
   "metadata": {},
   "outputs": [
    {
     "data": {
      "text/plain": [
       "dtype('int32')"
      ]
     },
     "execution_count": 9,
     "metadata": {},
     "output_type": "execute_result"
    }
   ],
   "source": [
    "a.dtype  #tells the type of elements in the array.  "
   ]
  },
  {
   "cell_type": "code",
   "execution_count": 14,
   "id": "f6c5709c-dc5b-4448-b694-0b39c5c450c0",
   "metadata": {},
   "outputs": [
    {
     "name": "stdout",
     "output_type": "stream",
     "text": [
      "[[1 2 3]\n",
      " [4 5 6]]\n",
      "2\n",
      "int32\n"
     ]
    }
   ],
   "source": [
    "#creating a multi-dimensional array. \n",
    "#We can pass a list of lists for this into the array() function.   \n",
    "b = np.array([[1,2,3], [4,5,6]])\n",
    "print(b)\n",
    "print(b.ndim)\n",
    "print(b.dtype)"
   ]
  },
  {
   "cell_type": "code",
   "execution_count": 16,
   "id": "72d46a0b-a9c9-4efc-b8c3-25bb84cb8dbb",
   "metadata": {},
   "outputs": [
    {
     "data": {
      "text/plain": [
       "(2, 3)"
      ]
     },
     "execution_count": 16,
     "metadata": {},
     "output_type": "execute_result"
    }
   ],
   "source": [
    "#now checking the shape of our array.\n",
    "#it returns a tuple. \n",
    "b.shape    "
   ]
  },
  {
   "cell_type": "code",
   "execution_count": null,
   "id": "1d51c348-f697-4a0c-9286-d6442acd0d68",
   "metadata": {},
   "outputs": [],
   "source": []
  }
 ],
 "metadata": {
  "kernelspec": {
   "display_name": "Python 3 (ipykernel)",
   "language": "python",
   "name": "python3"
  },
  "language_info": {
   "codemirror_mode": {
    "name": "ipython",
    "version": 3
   },
   "file_extension": ".py",
   "mimetype": "text/x-python",
   "name": "python",
   "nbconvert_exporter": "python",
   "pygments_lexer": "ipython3",
   "version": "3.9.5"
  }
 },
 "nbformat": 4,
 "nbformat_minor": 5
}
